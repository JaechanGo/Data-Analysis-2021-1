{
 "metadata": {
  "language_info": {
   "codemirror_mode": {
    "name": "ipython",
    "version": 3
   },
   "file_extension": ".py",
   "mimetype": "text/x-python",
   "name": "python",
   "nbconvert_exporter": "python",
   "pygments_lexer": "ipython3",
   "version": "3.8.2-final"
  },
  "orig_nbformat": 2,
  "kernelspec": {
   "name": "python3",
   "display_name": "Python 3.8.2 64-bit",
   "metadata": {
    "interpreter": {
     "hash": "a259040501b12017b6743c11591f7ca290bda5fb73bf1455cc4f98162b768a77"
    }
   }
  }
 },
 "nbformat": 4,
 "nbformat_minor": 2,
 "cells": [
  {
   "source": [
    "# Selenium을 이용한 동적 크롤링"
   ],
   "cell_type": "markdown",
   "metadata": {}
  },
  {
   "cell_type": "code",
   "execution_count": 13,
   "metadata": {},
   "outputs": [],
   "source": [
    "import requests, time\n",
    "from selenium import webdriver\n",
    "from selenium.webdriver.common.keys import Keys"
   ]
  },
  {
   "cell_type": "code",
   "execution_count": 14,
   "metadata": {},
   "outputs": [],
   "source": [
    "from bs4 import BeautifulSoup\n",
    "\n",
    "url = 'https://sports.news.naver.com/kbaseball/news/index.nhn?isphoto=N'\n",
    "req = requests.get(url)\n",
    "soup = BeautifulSoup(req.text, 'html.parser')\n",
    "\n",
    "# BeautifulSoup으로 크롤링을 하려고 하였지만 본문은 크롤링이 안됨"
   ]
  },
  {
   "source": [
    "### 야구 > 최신뉴스"
   ],
   "cell_type": "markdown",
   "metadata": {}
  },
  {
   "cell_type": "code",
   "execution_count": 15,
   "metadata": {},
   "outputs": [],
   "source": [
    "driver = webdriver.Chrome('chromedriver')\n",
    "url = 'https://sports.news.naver.com/kbaseball/news/index.nhn?isphoto=N'\n",
    "driver.get(url)"
   ]
  },
  {
   "cell_type": "code",
   "execution_count": 16,
   "metadata": {},
   "outputs": [],
   "source": [
    "# 최신 뉴스 리스트의 맨 마지막 페이지\n",
    "while True:\n",
    "    page = driver.find_element_by_id('_pageList')\n",
    "    try:\n",
    "        next = page.find_element_by_class_name('next')\n",
    "        if next:\n",
    "            next.click()\n",
    "    except:\n",
    "        break;"
   ]
  },
  {
   "cell_type": "code",
   "execution_count": 17,
   "metadata": {},
   "outputs": [
    {
     "output_type": "execute_result",
     "data": {
      "text/plain": [
       "1"
      ]
     },
     "metadata": {},
     "execution_count": 17
    }
   ],
   "source": [
    "page = driver.find_element_by_id('_pageList')\n",
    "try:\n",
    "    atags = page.find_elements_by_tag_name('a')\n",
    "    numPage = int(atags[-1].text)\n",
    "except:\n",
    "    numPage = 1\n",
    "numPage"
   ]
  },
  {
   "cell_type": "code",
   "execution_count": 18,
   "metadata": {},
   "outputs": [
    {
     "output_type": "execute_result",
     "data": {
      "text/plain": [
       "7"
      ]
     },
     "metadata": {},
     "execution_count": 18
    }
   ],
   "source": [
    "news = driver.find_element_by_id('_newsList')\n",
    "lis = news.find_elements_by_tag_name('li')\n",
    "len(lis)"
   ]
  },
  {
   "cell_type": "code",
   "execution_count": 19,
   "metadata": {},
   "outputs": [
    {
     "output_type": "stream",
     "name": "stdout",
     "text": [
      "김경문 감독 “신에게는 154명의 태극전사가 있나이다”\n",
      "“프로서 해 볼 만하단 자신감 챙겼죠”\n",
      "\"반갑다 친구야\" 꿈의 구장에서 추신수와 이대호는 웃었다\n",
      "'첫 안타 치자 동료들 환호' 쑥스러운 추신수 \"이상하지만, 기분 좋았다\"\n",
      "친구 이대호 앞에서 추신수 첫 안타\n",
      "[부산 핫포커스] '박수+환호' 홈런 못지 않았던 '첫 안타' 환호…추신수 \"기분 이상하던데요\"\n",
      "안철수 “새 잠실야구장, 내년 신축…25개구마다 에어돔” 공약\n"
     ]
    }
   ],
   "source": [
    "for li in lis:\n",
    "    text = li.find_element_by_class_name('title')\n",
    "    title = text.find_element_by_tag_name('span').text\n",
    "    print(title)"
   ]
  },
  {
   "source": [
    "### 종목 가져오기"
   ],
   "cell_type": "markdown",
   "metadata": {}
  },
  {
   "cell_type": "code",
   "execution_count": 20,
   "metadata": {},
   "outputs": [
    {
     "output_type": "stream",
     "name": "stdout",
     "text": [
      "스포츠홈\n",
      "야구\n",
      "해외야구\n",
      "축구\n",
      "해외축구\n",
      "농구\n",
      "배구\n",
      "골프\n",
      "일반\n",
      "e스포츠&게임\n",
      "오늘의 경기\n",
      "연재\n",
      "랭킹\n"
     ]
    }
   ],
   "source": [
    "menus = driver.find_elements_by_class_name('main_menu_item')\n",
    "for menu in menus:\n",
    "    event = menu.find_element_by_tag_name('a').text\n",
    "    print(event)"
   ]
  },
  {
   "cell_type": "code",
   "execution_count": 21,
   "metadata": {},
   "outputs": [
    {
     "output_type": "execute_result",
     "data": {
      "text/plain": [
       "['https://sports.news.naver.com/kbaseball/index.nhn',\n",
       " 'https://sports.news.naver.com/wbaseball/index.nhn',\n",
       " 'https://sports.news.naver.com/kfootball/index.nhn',\n",
       " 'https://sports.news.naver.com/wfootball/index.nhn',\n",
       " 'https://sports.news.naver.com/basketball/index.nhn',\n",
       " 'https://sports.news.naver.com/volleyball/index.nhn',\n",
       " 'https://sports.news.naver.com/golf/index.nhn',\n",
       " 'https://sports.news.naver.com/general/index.nhn',\n",
       " 'https://sports.news.naver.com/esports/index.nhn']"
      ]
     },
     "metadata": {},
     "execution_count": 21
    }
   ],
   "source": [
    "menus = driver.find_elements_by_class_name('main_menu_item')\n",
    "events = []\n",
    "for menu in menus[1:-3]:\n",
    "    event = menu.find_element_by_tag_name('a').get_attribute('href')\n",
    "    events.append(event)\n",
    "events"
   ]
  },
  {
   "cell_type": "code",
   "execution_count": 22,
   "metadata": {},
   "outputs": [
    {
     "output_type": "execute_result",
     "data": {
      "text/plain": [
       "['kbaseball',\n",
       " 'wbaseball',\n",
       " 'kfootball',\n",
       " 'wfootball',\n",
       " 'basketball',\n",
       " 'volleyball',\n",
       " 'golf',\n",
       " 'general',\n",
       " 'esports']"
      ]
     },
     "metadata": {},
     "execution_count": 22
    }
   ],
   "source": [
    "menus = driver.find_elements_by_class_name('main_menu_item')\n",
    "events = []\n",
    "for menu in menus[1:-3]:\n",
    "    event = menu.find_element_by_tag_name('a').get_attribute('href')\n",
    "    events.append(event.split('/')[3])\n",
    "events"
   ]
  },
  {
   "cell_type": "code",
   "execution_count": 28,
   "metadata": {},
   "outputs": [
    {
     "output_type": "stream",
     "name": "stdout",
     "text": [
      "kbaseball: 1 - 1, \n",
      "wbaseball: 8 - 1, 2, 3, 4, 5, 6, 7, 8, \n",
      "kfootball: 11 - 1, 2, 3, 4, 5, 6, 7, 8, 9, 10, 11, \n",
      "wfootball: 13 - 1, 2, 3, 4, 5, 6, 7, 8, 9, 10, 11, 12, 13, \n",
      "basketball: 9 - 1, 2, 3, 4, 5, 6, 7, 8, 9, \n",
      "volleyball: 5 - 1, 2, 3, 4, 5, \n",
      "golf: 6 - 1, 2, 3, 4, 5, 6, \n",
      "general: 8 - 1, 2, 3, 4, 5, 6, 7, 8, \n",
      "esports: 9 - 1, 2, 3, 4, 5, 6, 7, 8, 9, \n"
     ]
    }
   ],
   "source": [
    "title_list = []\n",
    "for event in events:\n",
    "    print(event, end=': ')\n",
    "    url = f'{base_url}{event}{sub_url}'\n",
    "    driver.get(url)\n",
    "    time.sleep(1)\n",
    "\n",
    "    while True:\n",
    "        page = driver.find_element_by_id('_pageList')\n",
    "        try:\n",
    "            next = page.find_element_by_class_name('next')\n",
    "            if next:\n",
    "                next.click()\n",
    "        except:\n",
    "            break;\n",
    "\n",
    "    page = driver.find_element_by_id('_pageList')\n",
    "    try:\n",
    "        atags = page.find_elements_by_tag_name('a')\n",
    "        numPage = int(atags[-1].text)\n",
    "    except:\n",
    "        numPage = 1\n",
    "\n",
    "    print(numPage, end=' - ')\n",
    "\n",
    "    for page in range(1, numPage+1):\n",
    "        print(page, end=', ')\n",
    "        url = f'{base_url}{event}{sub_url}&page={page}'\n",
    "        driver.get(url)\n",
    "        time.sleep(1)\n",
    "\n",
    "        news = driver.find_element_by_id('_newsList')\n",
    "        lis = news.find_elements_by_tag_name('li')\n",
    "        for li in lis:\n",
    "            text = li.find_element_by_class_name('title')\n",
    "            title = text.find_element_by_tag_name('span').text\n",
    "            title_list.append(title)\n",
    "    print()"
   ]
  },
  {
   "cell_type": "code",
   "execution_count": 29,
   "metadata": {},
   "outputs": [
    {
     "output_type": "execute_result",
     "data": {
      "text/plain": [
       "1325"
      ]
     },
     "metadata": {},
     "execution_count": 29
    }
   ],
   "source": [
    "len(title_list)"
   ]
  },
  {
   "cell_type": "code",
   "execution_count": 30,
   "metadata": {},
   "outputs": [],
   "source": [
    "\n",
    "title_str = '\\n'.join(title for title in title_list)\n",
    "with open('sports.txt', 'w', encoding='utf-8') as fp:\n",
    "    fp.write(title_str)"
   ]
  },
  {
   "cell_type": "code",
   "execution_count": null,
   "metadata": {},
   "outputs": [],
   "source": []
  }
 ]
}