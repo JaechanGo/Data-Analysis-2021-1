{
 "metadata": {
  "language_info": {
   "codemirror_mode": {
    "name": "ipython",
    "version": 3
   },
   "file_extension": ".py",
   "mimetype": "text/x-python",
   "name": "python",
   "nbconvert_exporter": "python",
   "pygments_lexer": "ipython3",
   "version": "3.7.6-final"
  },
  "orig_nbformat": 2,
  "kernelspec": {
   "name": "python3",
   "display_name": "Python 3.7.6 64-bit ('base')",
   "metadata": {
    "interpreter": {
     "hash": "4a030b50649d0911a7700d69fedc5f6924e5bd70d8bb5816ba0629d356442ccc"
    }
   }
  }
 },
 "nbformat": 4,
 "nbformat_minor": 2,
 "cells": [
  {
   "cell_type": "code",
   "execution_count": 4,
   "metadata": {},
   "outputs": [],
   "source": [
    "import numpy as np\n",
    "np_arr = np.arange(100000)"
   ]
  },
  {
   "cell_type": "code",
   "execution_count": 5,
   "metadata": {},
   "outputs": [],
   "source": [
    "nu_list=[]\n",
    "for i in range(10000):\n",
    "    nu_list.append(i)"
   ]
  },
  {
   "cell_type": "code",
   "execution_count": 6,
   "metadata": {},
   "outputs": [],
   "source": [
    "nu_list = [ i for i in range(10000)]"
   ]
  },
  {
   "cell_type": "code",
   "execution_count": 7,
   "metadata": {},
   "outputs": [
    {
     "output_type": "stream",
     "name": "stdout",
     "text": [
      "CPU times: user 8.57 ms, sys: 953 µs, total: 9.52 ms\nWall time: 13.8 ms\n"
     ]
    }
   ],
   "source": [
    "%%time\n",
    "for i in range(100):\n",
    "    sum(nu_list)"
   ]
  },
  {
   "cell_type": "code",
   "execution_count": 8,
   "metadata": {},
   "outputs": [
    {
     "output_type": "stream",
     "name": "stdout",
     "text": [
      "CPU times: user 7.66 ms, sys: 2.21 ms, total: 9.87 ms\nWall time: 25.5 ms\n"
     ]
    }
   ],
   "source": [
    "%%time \n",
    "for i in range(100):\n",
    "    np.sum(np_arr)"
   ]
  },
  {
   "cell_type": "code",
   "execution_count": 9,
   "metadata": {},
   "outputs": [
    {
     "output_type": "execute_result",
     "data": {
      "text/plain": [
       "array([ 1.,  4.,  7., 10.])"
      ]
     },
     "metadata": {},
     "execution_count": 9
    }
   ],
   "source": [
    "vector = np.array([1,4,7,10],float)\n",
    "vector"
   ]
  },
  {
   "cell_type": "code",
   "execution_count": 10,
   "metadata": {},
   "outputs": [
    {
     "output_type": "execute_result",
     "data": {
      "text/plain": [
       "numpy.ndarray"
      ]
     },
     "metadata": {},
     "execution_count": 10
    }
   ],
   "source": [
    "type(vector)"
   ]
  },
  {
   "cell_type": "code",
   "execution_count": 13,
   "metadata": {},
   "outputs": [
    {
     "output_type": "execute_result",
     "data": {
      "text/plain": [
       "(4,)"
      ]
     },
     "metadata": {},
     "execution_count": 13
    }
   ],
   "source": [
    "vector.shape"
   ]
  },
  {
   "source": [
    "# 2차원 배열 만들기 "
   ],
   "cell_type": "markdown",
   "metadata": {}
  },
  {
   "cell_type": "code",
   "execution_count": 15,
   "metadata": {},
   "outputs": [
    {
     "output_type": "execute_result",
     "data": {
      "text/plain": [
       "array([[1, 2, 5, 8],\n",
       "       [2, 3, 4, 9],\n",
       "       [4, 5, 6, 7]])"
      ]
     },
     "metadata": {},
     "execution_count": 15
    }
   ],
   "source": [
    "martrix = np.array([[1,2,5,8],[2,3,4,9],[4,5,6,7]])\n",
    "martrix"
   ]
  },
  {
   "cell_type": "code",
   "execution_count": 16,
   "metadata": {},
   "outputs": [
    {
     "output_type": "execute_result",
     "data": {
      "text/plain": [
       "(3, 4)"
      ]
     },
     "metadata": {},
     "execution_count": 16
    }
   ],
   "source": [
    "martrix.shape"
   ]
  },
  {
   "source": [
    "# 3차원 배열 만들기"
   ],
   "cell_type": "markdown",
   "metadata": {}
  },
  {
   "cell_type": "code",
   "execution_count": 25,
   "metadata": {},
   "outputs": [
    {
     "output_type": "execute_result",
     "data": {
      "text/plain": [
       "array([[[1, 2, 5, 8],\n",
       "        [2, 3, 4, 9],\n",
       "        [4, 5, 6, 7]],\n",
       "\n",
       "       [[1, 2, 5, 8],\n",
       "        [2, 3, 4, 9],\n",
       "        [4, 5, 6, 7]],\n",
       "\n",
       "       [[1, 2, 5, 8],\n",
       "        [2, 3, 4, 9],\n",
       "        [4, 5, 6, 7]],\n",
       "\n",
       "       [[1, 2, 5, 8],\n",
       "        [2, 3, 4, 9],\n",
       "        [4, 5, 6, 7]]])"
      ]
     },
     "metadata": {},
     "execution_count": 25
    }
   ],
   "source": [
    "tensor_list = [[[1,2,5,8],[2,3,4,9],[4,5,6,7]],\n",
    "                [[1,2,5,8],[2,3,4,9],[4,5,6,7]],\n",
    "                [[1,2,5,8],[2,3,4,9],[4,5,6,7]],\n",
    "                [[1,2,5,8],[2,3,4,9],[4,5,6,7]]]\n",
    "tensor = np.array(tensor_list)\n",
    "tensor"
   ]
  },
  {
   "cell_type": "code",
   "execution_count": 27,
   "metadata": {},
   "outputs": [
    {
     "output_type": "execute_result",
     "data": {
      "text/plain": [
       "(4, 3, 4)"
      ]
     },
     "metadata": {},
     "execution_count": 27
    }
   ],
   "source": [
    "tensor.shape"
   ]
  },
  {
   "source": [
    "# Array Shape"
   ],
   "cell_type": "markdown",
   "metadata": {}
  },
  {
   "source": [
    "### ndim & size\n",
    "### ndim : N차원인 것을 알려주는 명령어\n",
    "### size : element의 개수를 출력"
   ],
   "cell_type": "markdown",
   "metadata": {}
  },
  {
   "cell_type": "code",
   "execution_count": 29,
   "metadata": {},
   "outputs": [
    {
     "output_type": "execute_result",
     "data": {
      "text/plain": [
       "(1, 2, 3)"
      ]
     },
     "metadata": {},
     "execution_count": 29
    }
   ],
   "source": [
    "vector.ndim, martrix.ndim, tensor.ndim"
   ]
  },
  {
   "source": [
    "## Element의 개수\n"
   ],
   "cell_type": "markdown",
   "metadata": {}
  },
  {
   "cell_type": "code",
   "execution_count": 33,
   "metadata": {},
   "outputs": [
    {
     "output_type": "execute_result",
     "data": {
      "text/plain": [
       "(4, 12, 48)"
      ]
     },
     "metadata": {},
     "execution_count": 33
    }
   ],
   "source": [
    "vector.size, martrix.size, tensor.size\n"
   ]
  },
  {
   "source": [
    "## Dtype\n",
    "### Dtype: 하나의 element의 타입\n",
    "\n",
    "### Single Precision - 32bit\n",
    "### Double Precision - 64bit (defalut)"
   ],
   "cell_type": "markdown",
   "metadata": {}
  },
  {
   "cell_type": "code",
   "execution_count": 47,
   "metadata": {},
   "outputs": [
    {
     "output_type": "execute_result",
     "data": {
      "text/plain": [
       "32"
      ]
     },
     "metadata": {},
     "execution_count": 47
    }
   ],
   "source": [
    "a=np.array([1,2,5,8],float)\n",
    "a.nbytes\n",
    "\n"
   ]
  },
  {
   "cell_type": "code",
   "execution_count": 44,
   "metadata": {},
   "outputs": [
    {
     "output_type": "execute_result",
     "data": {
      "text/plain": [
       "dtype('float64')"
      ]
     },
     "metadata": {},
     "execution_count": 44
    }
   ],
   "source": [
    "a.dtype"
   ]
  },
  {
   "source": [
    "## Reshape"
   ],
   "cell_type": "markdown",
   "metadata": {}
  },
  {
   "cell_type": "code",
   "execution_count": 48,
   "metadata": {},
   "outputs": [
    {
     "output_type": "execute_result",
     "data": {
      "text/plain": [
       "(2, 4)"
      ]
     },
     "metadata": {},
     "execution_count": 48
    }
   ],
   "source": [
    "test_martix = np.array([[1,2,3,4],[2,3,4,5]])\n",
    "test_martix.shape"
   ]
  },
  {
   "cell_type": "code",
   "execution_count": 56,
   "metadata": {},
   "outputs": [
    {
     "output_type": "execute_result",
     "data": {
      "text/plain": [
       "array([1, 2, 3, 4, 2, 3, 4, 5])"
      ]
     },
     "metadata": {},
     "execution_count": 56
    }
   ],
   "source": [
    "test_martix.reshape(8,)"
   ]
  },
  {
   "cell_type": "code",
   "execution_count": 68,
   "metadata": {},
   "outputs": [
    {
     "output_type": "execute_result",
     "data": {
      "text/plain": [
       "array([[[1, 2],\n",
       "        [3, 4]],\n",
       "\n",
       "       [[2, 3],\n",
       "        [4, 5]]])"
      ]
     },
     "metadata": {},
     "execution_count": 68
    }
   ],
   "source": [
    "test_martix = np.array([[1,2,3,4],[2,3,4,5]])\n",
    "test_martix.reshape(2,2,2)"
   ]
  },
  {
   "cell_type": "code",
   "execution_count": null,
   "metadata": {},
   "outputs": [],
   "source": [
    "### attribute(t속성)"
   ]
  }
 ]
}