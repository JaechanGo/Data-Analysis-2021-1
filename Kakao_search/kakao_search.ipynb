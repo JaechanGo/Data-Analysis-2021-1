{
 "metadata": {
  "language_info": {
   "codemirror_mode": {
    "name": "ipython",
    "version": 3
   },
   "file_extension": ".py",
   "mimetype": "text/x-python",
   "name": "python",
   "nbconvert_exporter": "python",
   "pygments_lexer": "ipython3",
   "version": "3.8.2-final"
  },
  "orig_nbformat": 2,
  "kernelspec": {
   "name": "python3",
   "display_name": "Python 3.8.2 64-bit",
   "metadata": {
    "interpreter": {
     "hash": "a259040501b12017b6743c11591f7ca290bda5fb73bf1455cc4f98162b768a77"
    }
   }
  }
 },
 "nbformat": 4,
 "nbformat_minor": 2,
 "cells": [
  {
   "cell_type": "code",
   "execution_count": 30,
   "metadata": {},
   "outputs": [
    {
     "output_type": "stream",
     "name": "stdout",
     "text": [
      "Collecting simplejson\n",
      "  Downloading simplejson-3.17.2-cp38-cp38-macosx_10_14_x86_64.whl (74 kB)\n",
      "\u001b[K     |████████████████████████████████| 74 kB 486 kB/s \n",
      "\u001b[?25hInstalling collected packages: simplejson\n",
      "Successfully installed simplejson-3.17.2\n"
     ]
    }
   ],
   "source": [
    "!pip install simplejson"
   ]
  },
  {
   "cell_type": "code",
   "execution_count": 31,
   "metadata": {},
   "outputs": [],
   "source": [
    "# !pip install simplejson\n",
    "# !pip install requests\n",
    "# !pip install quote\n",
    "# !pip install pandas\n",
    "\n",
    "import simplejson,requests,json #서버로 부터 요청\u001c\n",
    "from urllib.parse import quote # URL구성요소로 분석하기위한 라이브러리\n",
    "import pandas as pd # 데이터 구조와 연산을 위한 라이브러리"
   ]
  },
  {
   "cell_type": "code",
   "execution_count": 2,
   "metadata": {},
   "outputs": [],
   "source": [
    "with open('kakaomapkey.txt')as key_fd:\n",
    "    kmap_key = key_fd.read(100)"
   ]
  },
  {
   "cell_type": "code",
   "execution_count": 33,
   "metadata": {},
   "outputs": [
    {
     "output_type": "stream",
     "name": "stdout",
     "text": [
      "{'documents': [{'contents': '전북개발공사(사장 <b>고재찬</b>, 이하 공사)가 대내외적으로 어려운 경영환경 속에서도 <b>고재찬</b> 사장을 중심으로 강력한 리더십과 뚝심있는 추진력을 통해 지난 3년간 괄목할 만한 성과를 나타냈다. 특히 <b>고재찬</b> 사장은...', 'datetime': '2019-03-18T15:33:59.000+09:00', 'title': '전북개발공사, <b>고재찬</b> 사장 취임 3년 어려움 속 괄목성과 이뤄', 'url': 'http://www.jeonbuktimes.co.kr/m/view.asp?idx=56214'}, {'contents': '공급에 박차를 가하고 안정적인 재무관리를 통해 재무건전성을 확보하기로 했다. 6일 전북개발공사 <b>고재찬</b> 사장은 도내 언론사 기자들을 초청해 2017년도의 성과와 올해 10대 현안 추진계획을 발표하는 프레스...', 'datetime': '2018-02-07T09:32:00.000+09:00', 'title': '<b>고재찬</b> 전개공 사장, 10대 추진계획 발표', 'url': 'http://m.smgnews.co.kr/a.html?uid=164364'}, {'contents': '전북개발공사 제8대 <b>고재찬</b> 신임 사장의 취임식이 지난 26일 공사 대회의실에서 열렸다. 신임 <b>고재찬</b> 사장(59)은 전주공고 토목과, 한국방송통신대 행정학과를 거쳐 전북대학교 환경대학원에서 석사학위 및 도시...', 'datetime': '2016-02-29T00:00:00.000+09:00', 'title': '&#39;우수공기업 선도하는 책임경영 실현&#39; 전북개발공사 <b>고재찬</b> 사장 취임', 'url': 'http://www.jjan.kr/news/ampArticleView.html?idxno=575596'}, {'contents': '공직 40년을 넘어 인생 2막을 간다 - 종교인의 삶, 봉사의 삶을 향하여 - 군산성광교회 <b>고재찬</b> 장로(전 전북개발공사 사장) 자그만치 43년 9개월이라고 한다. 까치머리 총각으로 시작한 공직자의 길. 그 길에는...', 'datetime': '2019-04-01T14:22:07.000+09:00', 'title': '인생 2막을 간다 - 종교인의 삶, 봉사의 삶을 향하여 - 군산성광교회 <b>고재찬</b> 장로(전 전북개발공사 사장)', 'url': 'http://maggun.com/article/read.php?mode=read&idx=1938&page=1'}, {'contents': '전북개발공사 제8대 사장에 <b>고재찬</b>(만59) 전 전라북도 건설교통국장이 취임했다. 고 사장은 취임 인사를 통해 “전북을 위해 일 할 수 있는 기회를 주신 도민 여러분께 감사드린다.전북개발공사를 운영함에 있어...', 'datetime': '2016-03-20T12:31:23.000+09:00', 'title': '전북개발공사 <b>고재찬</b> 사장, 핵심 경영전략 밝혀', 'url': 'http://www.jbyonhap.com/news/articleView.html?idxno=160015'}, {'contents': '배출한 긍정마인드의 공직자, 어려움을 이겨내는 외유내강의 살아있는 교본으로 불려도 손색이 없는 <b>고재찬</b> 제8대 전북개발공사 사장이 3년 임기를 마치고 3월 29일 퇴임한다. 그는 공직자로서 핵심 요직을...', 'datetime': '2019-03-27T10:01:32.000+09:00', 'title': '(새군산이 만난 사람) 퇴임하는 <b>고재찬</b> 전북개발공사 사장', 'url': 'http://newgunsan.kr/newsView.htm?idx=1889&page=1&code=2_3'}, {'contents': '1 고속 interconnection을 위한 NIBI 선로 부호 <b>고재찬</b>, 이범철, 김봉수, 최은창 [Kisti 연계] 대한전자공학회 電子工學會論文誌. Journal of the Institute of Electronics Engineers of Korea. TC, 통신 Vol.38...', 'datetime': '2019-09-30T14:07:29.000+09:00', 'title': '<b>고재찬</b> 이범철 김봉수 최은창 김준명 송재진 박양춘 김병탁', 'url': 'https://www.earticle.net/Search/Result?sf=3&q=%EA%B3%A0%EC%9E%AC%EC%B0%AC'}, {'contents': '<b>고재찬</b> 전북개발공사 사장이 홍조근정훈장을 받았다. <b>고재찬</b> 전북개발공사 사장은 도내 SOC 확충 및 지역균형개발 촉진, 재해예방과 도민 편익증진을 통한 삶의 질 향상에 기여한 공로를 인정받아 이번 홍조근정...', 'datetime': '2016-07-19T16:27:59.000+09:00', 'title': '<b>고재찬</b> 전북개발공사 사장 , 홍조근정훈장 수여받아', 'url': 'http://www.jeonbuktimes.co.kr/news/view.asp?idx=5045'}, {'contents': '만성 법조타운 건설 10년간의 발자취 한곳에 담다 전북개발공사(사장 <b>고재찬</b>)가 전주 만성동 일원에 조성한 ‘전주만성지구 도시개발사업’10년간(2008~2018)의 발자취를 수록한 백서를 발간했다. 전주만성지구는...', 'datetime': '2021-03-30T18:33:42.000+09:00', 'title': '전북개발공사, 전주만성지구 도시개발사업 백서 발간', 'url': 'http://www.jbyonhap.com/news/articleView.html?idxno=234312'}, {'contents': '▲위옥순씨 별세, <b>고재찬</b>(전북개발공사 사장)씨·고순애씨·고후남씨 모친상, 전형석씨·이수배씨 빙모상, 박윤서씨 시모상= 발인: 14일 군산장례식장 특1호실, 장지: 장수군 천천면 선영하, 연락처...', 'datetime': '2019-01-13T00:00:00.000+09:00', 'title': '<b>고재찬</b> 전북개발공사 사장 모친상', 'url': 'http://www.domin.co.kr/news/articleViewAmp.html?idxno=1226464'}], 'meta': {'is_end': False, 'pageable_count': 615, 'total_count': 1785}}\n"
     ]
    }
   ],
   "source": [
    "search = '고재찬'\n",
    "kakao_url = \"https://dapi.kakao.com\"\n",
    "api_url = \"/v2/search/web?query=\"\n",
    "\n",
    "url = kakao_url + api_url + search\n",
    "# http://dapi.kakao.com/v2/search/web?query=Keyword\n",
    "result = requests.get(url,\n",
    "                        headers={\"Authorization\": f\"KakaoAK {kmap_key}\"})\n",
    "                        \n",
    "print(json.loads(result.text))\n",
    "\n",
    "\n",
    "         "
   ]
  },
  {
   "cell_type": "code",
   "execution_count": 28,
   "metadata": {},
   "outputs": [
    {
     "output_type": "execute_result",
     "data": {
      "text/plain": [
       "[{'contents': '전북개발공사(사장 <b>고재찬</b>, 이하 공사)가 대내외적으로 어려운 경영환경 속에서도 <b>고재찬</b> 사장을 중심으로 강력한 리더십과 뚝심있는 추진력을 통해 지난 3년간 괄목할 만한 성과를 나타냈다. 특히 <b>고재찬</b> 사장은...',\n",
       "  'datetime': '2019-03-18T15:33:59.000+09:00',\n",
       "  'title': '전북개발공사, <b>고재찬</b> 사장 취임 3년 어려움 속 괄목성과 이뤄',\n",
       "  'url': 'http://www.jeonbuktimes.co.kr/m/view.asp?idx=56214'},\n",
       " {'contents': '공급에 박차를 가하고 안정적인 재무관리를 통해 재무건전성을 확보하기로 했다. 6일 전북개발공사 <b>고재찬</b> 사장은 도내 언론사 기자들을 초청해 2017년도의 성과와 올해 10대 현안 추진계획을 발표하는 프레스...',\n",
       "  'datetime': '2018-02-07T09:32:00.000+09:00',\n",
       "  'title': '<b>고재찬</b> 전개공 사장, 10대 추진계획 발표',\n",
       "  'url': 'http://m.smgnews.co.kr/a.html?uid=164364'},\n",
       " {'contents': '전북개발공사 제8대 <b>고재찬</b> 신임 사장의 취임식이 지난 26일 공사 대회의실에서 열렸다. 신임 <b>고재찬</b> 사장(59)은 전주공고 토목과, 한국방송통신대 행정학과를 거쳐 전북대학교 환경대학원에서 석사학위 및 도시...',\n",
       "  'datetime': '2016-02-29T00:00:00.000+09:00',\n",
       "  'title': '&#39;우수공기업 선도하는 책임경영 실현&#39; 전북개발공사 <b>고재찬</b> 사장 취임',\n",
       "  'url': 'http://www.jjan.kr/news/ampArticleView.html?idxno=575596'},\n",
       " {'contents': '공직 40년을 넘어 인생 2막을 간다 - 종교인의 삶, 봉사의 삶을 향하여 - 군산성광교회 <b>고재찬</b> 장로(전 전북개발공사 사장) 자그만치 43년 9개월이라고 한다. 까치머리 총각으로 시작한 공직자의 길. 그 길에는...',\n",
       "  'datetime': '2019-04-01T14:22:07.000+09:00',\n",
       "  'title': '인생 2막을 간다 - 종교인의 삶, 봉사의 삶을 향하여 - 군산성광교회 <b>고재찬</b> 장로(전 전북개발공사 사장)',\n",
       "  'url': 'http://maggun.com/article/read.php?mode=read&idx=1938&page=1'},\n",
       " {'contents': '전북개발공사 제8대 사장에 <b>고재찬</b>(만59) 전 전라북도 건설교통국장이 취임했다. 고 사장은 취임 인사를 통해 “전북을 위해 일 할 수 있는 기회를 주신 도민 여러분께 감사드린다.전북개발공사를 운영함에 있어...',\n",
       "  'datetime': '2016-03-20T12:31:23.000+09:00',\n",
       "  'title': '전북개발공사 <b>고재찬</b> 사장, 핵심 경영전략 밝혀',\n",
       "  'url': 'http://www.jbyonhap.com/news/articleView.html?idxno=160015'},\n",
       " {'contents': '배출한 긍정마인드의 공직자, 어려움을 이겨내는 외유내강의 살아있는 교본으로 불려도 손색이 없는 <b>고재찬</b> 제8대 전북개발공사 사장이 3년 임기를 마치고 3월 29일 퇴임한다. 그는 공직자로서 핵심 요직을...',\n",
       "  'datetime': '2019-03-27T10:01:32.000+09:00',\n",
       "  'title': '(새군산이 만난 사람) 퇴임하는 <b>고재찬</b> 전북개발공사 사장',\n",
       "  'url': 'http://newgunsan.kr/newsView.htm?idx=1889&page=1&code=2_3'},\n",
       " {'contents': '1 고속 interconnection을 위한 NIBI 선로 부호 <b>고재찬</b>, 이범철, 김봉수, 최은창 [Kisti 연계] 대한전자공학회 電子工學會論文誌. Journal of the Institute of Electronics Engineers of Korea. TC, 통신 Vol.38...',\n",
       "  'datetime': '2019-09-30T14:07:29.000+09:00',\n",
       "  'title': '<b>고재찬</b> 이범철 김봉수 최은창 김준명 송재진 박양춘 김병탁',\n",
       "  'url': 'https://www.earticle.net/Search/Result?sf=3&q=%EA%B3%A0%EC%9E%AC%EC%B0%AC'},\n",
       " {'contents': '<b>고재찬</b> 전북개발공사 사장이 홍조근정훈장을 받았다. <b>고재찬</b> 전북개발공사 사장은 도내 SOC 확충 및 지역균형개발 촉진, 재해예방과 도민 편익증진을 통한 삶의 질 향상에 기여한 공로를 인정받아 이번 홍조근정...',\n",
       "  'datetime': '2016-07-19T16:27:59.000+09:00',\n",
       "  'title': '<b>고재찬</b> 전북개발공사 사장 , 홍조근정훈장 수여받아',\n",
       "  'url': 'http://www.jeonbuktimes.co.kr/news/view.asp?idx=5045'},\n",
       " {'contents': '만성 법조타운 건설 10년간의 발자취 한곳에 담다 전북개발공사(사장 <b>고재찬</b>)가 전주 만성동 일원에 조성한 ‘전주만성지구 도시개발사업’10년간(2008~2018)의 발자취를 수록한 백서를 발간했다. 전주만성지구는...',\n",
       "  'datetime': '2021-03-30T18:33:42.000+09:00',\n",
       "  'title': '전북개발공사, 전주만성지구 도시개발사업 백서 발간',\n",
       "  'url': 'http://www.jbyonhap.com/news/articleView.html?idxno=234312'},\n",
       " {'contents': '▲위옥순씨 별세, <b>고재찬</b>(전북개발공사 사장)씨·고순애씨·고후남씨 모친상, 전형석씨·이수배씨 빙모상, 박윤서씨 시모상= 발인: 14일 군산장례식장 특1호실, 장지: 장수군 천천면 선영하, 연락처...',\n",
       "  'datetime': '2019-01-13T00:00:00.000+09:00',\n",
       "  'title': '<b>고재찬</b> 전북개발공사 사장 모친상',\n",
       "  'url': 'http://www.domin.co.kr/news/articleViewAmp.html?idxno=1226464'}]"
      ]
     },
     "metadata": {},
     "execution_count": 28
    }
   ],
   "source": [
    "js = simplejson.JSONEncoder().encode(result.json())\n",
    "result.json()[\"documents\"]\n"
   ]
  },
  {
   "cell_type": "code",
   "execution_count": 36,
   "metadata": {},
   "outputs": [
    {
     "output_type": "stream",
     "name": "stdout",
     "text": [
      "\n\ntitle\t :  전북개발공사, <b>고재찬</b> 사장 취임 3년 어려움 속 괄목성과 이뤄\nurl\t :  http://www.jeonbuktimes.co.kr/m/view.asp?idx=56214\ndatetime :\t  2019-03-18T15:33:59.000+09:00\ncontents :\t  전북개발공사(사장 <b>고재찬</b>, 이하 공사)가 대내외적으로 어려운 경영환경 속에서도 <b>고재찬</b> 사장을 중심으로 강력한 리더십과 뚝심있는 추진력을 통해 지난 3년간 괄목할 만한 성과를 나타냈다. 특히 <b>고재찬</b> 사장은...\n\n\n------------------------------------------------------------------------------------------------------------------------\n\n\ntitle\t :  <b>고재찬</b> 전개공 사장, 10대 추진계획 발표\nurl\t :  http://m.smgnews.co.kr/a.html?uid=164364\ndatetime :\t  2018-02-07T09:32:00.000+09:00\ncontents :\t  공급에 박차를 가하고 안정적인 재무관리를 통해 재무건전성을 확보하기로 했다. 6일 전북개발공사 <b>고재찬</b> 사장은 도내 언론사 기자들을 초청해 2017년도의 성과와 올해 10대 현안 추진계획을 발표하는 프레스...\n\n\n------------------------------------------------------------------------------------------------------------------------\n\n\ntitle\t :  &#39;우수공기업 선도하는 책임경영 실현&#39; 전북개발공사 <b>고재찬</b> 사장 취임\nurl\t :  http://www.jjan.kr/news/ampArticleView.html?idxno=575596\ndatetime :\t  2016-02-29T00:00:00.000+09:00\ncontents :\t  전북개발공사 제8대 <b>고재찬</b> 신임 사장의 취임식이 지난 26일 공사 대회의실에서 열렸다. 신임 <b>고재찬</b> 사장(59)은 전주공고 토목과, 한국방송통신대 행정학과를 거쳐 전북대학교 환경대학원에서 석사학위 및 도시...\n\n\n------------------------------------------------------------------------------------------------------------------------\n\n\ntitle\t :  인생 2막을 간다 - 종교인의 삶, 봉사의 삶을 향하여 - 군산성광교회 <b>고재찬</b> 장로(전 전북개발공사 사장)\nurl\t :  http://maggun.com/article/read.php?mode=read&idx=1938&page=1\ndatetime :\t  2019-04-01T14:22:07.000+09:00\ncontents :\t  공직 40년을 넘어 인생 2막을 간다 - 종교인의 삶, 봉사의 삶을 향하여 - 군산성광교회 <b>고재찬</b> 장로(전 전북개발공사 사장) 자그만치 43년 9개월이라고 한다. 까치머리 총각으로 시작한 공직자의 길. 그 길에는...\n\n\n------------------------------------------------------------------------------------------------------------------------\n\n\ntitle\t :  전북개발공사 <b>고재찬</b> 사장, 핵심 경영전략 밝혀\nurl\t :  http://www.jbyonhap.com/news/articleView.html?idxno=160015\ndatetime :\t  2016-03-20T12:31:23.000+09:00\ncontents :\t  전북개발공사 제8대 사장에 <b>고재찬</b>(만59) 전 전라북도 건설교통국장이 취임했다. 고 사장은 취임 인사를 통해 “전북을 위해 일 할 수 있는 기회를 주신 도민 여러분께 감사드린다.전북개발공사를 운영함에 있어...\n\n\n------------------------------------------------------------------------------------------------------------------------\n\n\ntitle\t :  (새군산이 만난 사람) 퇴임하는 <b>고재찬</b> 전북개발공사 사장\nurl\t :  http://newgunsan.kr/newsView.htm?idx=1889&page=1&code=2_3\ndatetime :\t  2019-03-27T10:01:32.000+09:00\ncontents :\t  배출한 긍정마인드의 공직자, 어려움을 이겨내는 외유내강의 살아있는 교본으로 불려도 손색이 없는 <b>고재찬</b> 제8대 전북개발공사 사장이 3년 임기를 마치고 3월 29일 퇴임한다. 그는 공직자로서 핵심 요직을...\n\n\n------------------------------------------------------------------------------------------------------------------------\n\n\ntitle\t :  <b>고재찬</b> 이범철 김봉수 최은창 김준명 송재진 박양춘 김병탁\nurl\t :  https://www.earticle.net/Search/Result?sf=3&q=%EA%B3%A0%EC%9E%AC%EC%B0%AC\ndatetime :\t  2019-09-30T14:07:29.000+09:00\ncontents :\t  1 고속 interconnection을 위한 NIBI 선로 부호 <b>고재찬</b>, 이범철, 김봉수, 최은창 [Kisti 연계] 대한전자공학회 電子工學會論文誌. Journal of the Institute of Electronics Engineers of Korea. TC, 통신 Vol.38...\n\n\n------------------------------------------------------------------------------------------------------------------------\n\n\ntitle\t :  <b>고재찬</b> 전북개발공사 사장 , 홍조근정훈장 수여받아\nurl\t :  http://www.jeonbuktimes.co.kr/news/view.asp?idx=5045\ndatetime :\t  2016-07-19T16:27:59.000+09:00\ncontents :\t  <b>고재찬</b> 전북개발공사 사장이 홍조근정훈장을 받았다. <b>고재찬</b> 전북개발공사 사장은 도내 SOC 확충 및 지역균형개발 촉진, 재해예방과 도민 편익증진을 통한 삶의 질 향상에 기여한 공로를 인정받아 이번 홍조근정...\n\n\n------------------------------------------------------------------------------------------------------------------------\n\n\ntitle\t :  전북개발공사 <b>고재찬</b> 사장, 스카우트 평생회원 가입\nurl\t :  http://www.jbyonhap.com/news/articleView.html?idxno=167146\ndatetime :\t  2016-05-23T08:05:38.000+09:00\ncontents :\t  전북개발공사 <b>고재찬</b> 사장이 163개국 5만여명이 참가하는 &#39;2023 세계잼버리 유치성공&#39;을 기원하기 위해 평생회원에 가입했다. 송하진 도지사, 김일재 행정부지사, 이형규 정무부지사에 이어 고 사장도 한국...\n\n\n------------------------------------------------------------------------------------------------------------------------\n\n\ntitle\t :  <b>고재찬</b> 전북개발공사 사장 모친상\nurl\t :  http://www.domin.co.kr/news/articleViewAmp.html?idxno=1226464\ndatetime :\t  2019-01-13T00:00:00.000+09:00\ncontents :\t  ▲위옥순씨 별세, <b>고재찬</b>(전북개발공사 사장)씨·고순애씨·고후남씨 모친상, 전형석씨·이수배씨 빙모상, 박윤서씨 시모상= 발인: 14일 군산장례식장 특1호실, 장지: 장수군 천천면 선영하, 연락처...\n\n\n------------------------------------------------------------------------------------------------------------------------\n"
     ]
    }
   ],
   "source": [
    "\n",
    "for i in result.json()[\"documents\"] :\n",
    "    print(\"\\n\")\n",
    "    print(\"title\\t : \" ,i[\"title\"])\n",
    "    print (\"url\\t : \" ,i[\"url\"])\n",
    "    print (\"datetime :\\t \" ,i[\"datetime\"])\n",
    "    print (\"contents :\\t \" ,i[\"contents\"]) \n",
    "    print(\"\\n\")\n",
    "    print(\"------------------------------------------------------------------------------------------------------------------------\") "
   ]
  },
  {
   "cell_type": "code",
   "execution_count": 2,
   "metadata": {},
   "outputs": [],
   "source": [
    "from urllib.request import Request, urlopen\n",
    "\n",
    "from urllib.parse import urlencode, quote_plus,unquote\n",
    "\n",
    "import xml.etree.ElementTree as ET"
   ]
  },
  {
   "cell_type": "code",
   "execution_count": 3,
   "metadata": {},
   "outputs": [],
   "source": [
    "\n",
    "url = 'http://apis.data.go.kr/1661000/FireInformationService/getOcByfrstFireSmrzPcnd'\n",
    "queryParams = '?' + urlencode({ quote_plus('ServiceKey') : '%2BiT5a7wYkdxfIqbjMjU5tu4%2BY1ki6GEcF7vgcsbALbXvgsnNrcIOYSFYIKry6bx7vfAQ2D7aqzw4KAo8RE99Wg%3D%3D', quote_plus('pageNo') : '1', quote_plus('numOfRows') : '10', quote_plus('resultType') : 'JSON', quote_plus('ocrn_ymd') : '20201106' })"
   ]
  },
  {
   "cell_type": "code",
   "execution_count": 11,
   "metadata": {},
   "outputs": [],
   "source": [
    "API_key = unquote('%2BiT5a7wYkdxfIqbjMjU5tu4%2BY1ki6GEcF7vgcsbALbXvgsnNrcIOYSFYIKry6bx7vfAQ2D7aqzw4KAo8RE99Wg%3D%3D')\n",
    "\n",
    "url = 'http://openapi.airkorea.or.kr/openapi/services/rest/ArpltnInforInqireSvc/getCtprvnMesureLIst'\n",
    "\n",
    "queryParams = '?' + urlencode({ quote_plus('ServiceKey') : API_key, quote_plus('numOfRows') : '10', quote_plus('pageNo') : '1', quote_plus('itemCode') : 'PM10', quote_plus('dataGubun') : 'HOUR', quote_plus('searchCondition') : 'MONTH' })"
   ]
  },
  {
   "cell_type": "code",
   "execution_count": 12,
   "metadata": {},
   "outputs": [
    {
     "output_type": "stream",
     "name": "stdout",
     "text": [
      "b'<?xml version=\"1.0\" encoding=\"UTF-8\"?>\\r\\n\\r\\n\\r\\n\\r\\n\\r\\n<response>\\r\\n\\t<header>\\r\\n\\t\\t<resultCode>30</resultCode>\\r\\n\\t\\t<resultMsg>SERVICE KEY IS NOT REGISTERED ERROR. Please ask data.go.kr</resultMsg>\\r\\n\\t</header>\\r\\n</response>\\r\\n'\n"
     ]
    }
   ],
   "source": [
    "request = Request(url + queryParams)\n",
    "request.get_method = lambda: 'GET'\n",
    "response_body = urlopen(request).read()\n",
    "print(response_body)"
   ]
  },
  {
   "cell_type": "code",
   "execution_count": 7,
   "metadata": {},
   "outputs": [],
   "source": [
    "request = Request(url + queryParams)\n",
    "\n",
    "request.get_method = lambda: 'GET'\n",
    "\n",
    "response_body = urlopen(request).read().decode('utf-8')\n",
    "\n",
    "root = ET.fromstring(response_body)"
   ]
  },
  {
   "cell_type": "code",
   "execution_count": 75,
   "metadata": {},
   "outputs": [
    {
     "output_type": "execute_result",
     "data": {
      "text/plain": [
       "b'<?xml version=\"1.0\" encoding=\"UTF-8\"?><response>\\n  <header>\\n    <resultCode>00</resultCode>\\n    <resultMsg>NORMAL SERVICE</resultMsg>\\n  </header>\\n  <body>\\n    <pageNo>1</pageNo>\\n    <totalCount>10</totalCount>\\n    <numOfRows>10</numOfRows>\\n    <items>\\n      <item>\\n        <STN_END_MNB>1</STN_END_MNB>\\n        <FRST_CETR_NM>\\xec\\xa2\\x85\\xeb\\xa1\\x9c\\xec\\x86\\x8c\\xeb\\xb0\\xa9\\xec\\x84\\x9c</FRST_CETR_NM>\\n        <OCRN_YMD>20201106</OCRN_YMD>\\n        <FLSRP_PRCS_MNB>1</FLSRP_PRCS_MNB>\\n        <SLF_EXTSH_MNB>0</SLF_EXTSH_MNB>\\n        <FIRE_PROG_MNB>0</FIRE_PROG_MNB>\\n        <FALS_DCLR_MNB>0</FALS_DCLR_MNB>\\n        <FIRE_RCPT_MNB>2</FIRE_RCPT_MNB>\\n        <SIDO_HQ_FRST_CETR_NM>\\xec\\x84\\x9c\\xec\\x9a\\xb8\\xec\\x86\\x8c\\xeb\\xb0\\xa9\\xec\\x9e\\xac\\xeb\\x82\\x9c\\xeb\\xb3\\xb8\\xeb\\xb6\\x80</SIDO_HQ_FRST_CETR_NM>\\n      </item>\\n      <item>\\n        <STN_END_MNB>0</STN_END_MNB>\\n        <FRST_CETR_NM>\\xec\\x9a\\xa9\\xec\\x82\\xb0\\xec\\x86\\x8c\\xeb\\xb0\\xa9\\xec\\x84\\x9c</FRST_CETR_NM>\\n        <OCRN_YMD>20201106</OCRN_YMD>\\n        <FLSRP_PRCS_MNB>1</FLSRP_PRCS_MNB>\\n        <SLF_EXTSH_MNB>0</SLF_EXTSH_MNB>\\n        <FIRE_PROG_MNB>0</FIRE_PROG_MNB>\\n        <FALS_DCLR_MNB>0</FALS_DCLR_MNB>\\n        <FIRE_RCPT_MNB>1</FIRE_RCPT_MNB>\\n        <SIDO_HQ_FRST_CETR_NM>\\xec\\x84\\x9c\\xec\\x9a\\xb8\\xec\\x86\\x8c\\xeb\\xb0\\xa9\\xec\\x9e\\xac\\xeb\\x82\\x9c\\xeb\\xb3\\xb8\\xeb\\xb6\\x80</SIDO_HQ_FRST_CETR_NM>\\n      </item>\\n      <item>\\n        <STN_END_MNB>1</STN_END_MNB>\\n        <FRST_CETR_NM>\\xeb\\x8f\\x99\\xeb\\x8c\\x80\\xeb\\xac\\xb8\\xec\\x86\\x8c\\xeb\\xb0\\xa9\\xec\\x84\\x9c</FRST_CETR_NM>\\n        <OCRN_YMD>20201106</OCRN_YMD>\\n        <FLSRP_PRCS_MNB>1</FLSRP_PRCS_MNB>\\n        <SLF_EXTSH_MNB>0</SLF_EXTSH_MNB>\\n        <FIRE_PROG_MNB>0</FIRE_PROG_MNB>\\n        <FALS_DCLR_MNB>0</FALS_DCLR_MNB>\\n        <FIRE_RCPT_MNB>2</FIRE_RCPT_MNB>\\n        <SIDO_HQ_FRST_CETR_NM>\\xec\\x84\\x9c\\xec\\x9a\\xb8\\xec\\x86\\x8c\\xeb\\xb0\\xa9\\xec\\x9e\\xac\\xeb\\x82\\x9c\\xeb\\xb3\\xb8\\xeb\\xb6\\x80</SIDO_HQ_FRST_CETR_NM>\\n      </item>\\n      <item>\\n        <STN_END_MNB>2</STN_END_MNB>\\n        <FRST_CETR_NM>\\xec\\x98\\x81\\xeb\\x93\\xb1\\xed\\x8f\\xac\\xec\\x86\\x8c\\xeb\\xb0\\xa9\\xec\\x84\\x9c</FRST_CETR_NM>\\n        <OCRN_YMD>20201106</OCRN_YMD>\\n        <FLSRP_PRCS_MNB>0</FLSRP_PRCS_MNB>\\n        <SLF_EXTSH_MNB>0</SLF_EXTSH_MNB>\\n        <FIRE_PROG_MNB>1</FIRE_PROG_MNB>\\n        <FALS_DCLR_MNB>0</FALS_DCLR_MNB>\\n        <FIRE_RCPT_MNB>3</FIRE_RCPT_MNB>\\n        <SIDO_HQ_FRST_CETR_NM>\\xec\\x84\\x9c\\xec\\x9a\\xb8\\xec\\x86\\x8c\\xeb\\xb0\\xa9\\xec\\x9e\\xac\\xeb\\x82\\x9c\\xeb\\xb3\\xb8\\xeb\\xb6\\x80</SIDO_HQ_FRST_CETR_NM>\\n      </item>\\n      <item>\\n        <STN_END_MNB>1</STN_END_MNB>\\n        <FRST_CETR_NM>\\xec\\x84\\xb1\\xeb\\xb6\\x81\\xec\\x86\\x8c\\xeb\\xb0\\xa9\\xec\\x84\\x9c</FRST_CETR_NM>\\n        <OCRN_YMD>20201106</OCRN_YMD>\\n        <FLSRP_PRCS_MNB>0</FLSRP_PRCS_MNB>\\n        <SLF_EXTSH_MNB>0</SLF_EXTSH_MNB>\\n        <FIRE_PROG_MNB>0</FIRE_PROG_MNB>\\n        <FALS_DCLR_MNB>0</FALS_DCLR_MNB>\\n        <FIRE_RCPT_MNB>1</FIRE_RCPT_MNB>\\n        <SIDO_HQ_FRST_CETR_NM>\\xec\\x84\\x9c\\xec\\x9a\\xb8\\xec\\x86\\x8c\\xeb\\xb0\\xa9\\xec\\x9e\\xac\\xeb\\x82\\x9c\\xeb\\xb3\\xb8\\xeb\\xb6\\x80</SIDO_HQ_FRST_CETR_NM>\\n      </item>\\n      <item>\\n        <STN_END_MNB>0</STN_END_MNB>\\n        <FRST_CETR_NM>\\xeb\\x8f\\x84\\xeb\\xb4\\x89\\xec\\x86\\x8c\\xeb\\xb0\\xa9\\xec\\x84\\x9c</FRST_CETR_NM>\\n        <OCRN_YMD>20201106</OCRN_YMD>\\n        <FLSRP_PRCS_MNB>1</FLSRP_PRCS_MNB>\\n        <SLF_EXTSH_MNB>0</SLF_EXTSH_MNB>\\n        <FIRE_PROG_MNB>0</FIRE_PROG_MNB>\\n        <FALS_DCLR_MNB>0</FALS_DCLR_MNB>\\n        <FIRE_RCPT_MNB>1</FIRE_RCPT_MNB>\\n        <SIDO_HQ_FRST_CETR_NM>\\xec\\x84\\x9c\\xec\\x9a\\xb8\\xec\\x86\\x8c\\xeb\\xb0\\xa9\\xec\\x9e\\xac\\xeb\\x82\\x9c\\xeb\\xb3\\xb8\\xeb\\xb6\\x80</SIDO_HQ_FRST_CETR_NM>\\n      </item>\\n      <item>\\n        <STN_END_MNB>1</STN_END_MNB>\\n        <FRST_CETR_NM>\\xeb\\x85\\xb8\\xec\\x9b\\x90\\xec\\x86\\x8c\\xeb\\xb0\\xa9\\xec\\x84\\x9c</FRST_CETR_NM>\\n        <OCRN_YMD>20201106</OCRN_YMD>\\n        <FLSRP_PRCS_MNB>0</FLSRP_PRCS_MNB>\\n        <SLF_EXTSH_MNB>1</SLF_EXTSH_MNB>\\n        <FIRE_PROG_MNB>0</FIRE_PROG_MNB>\\n        <FALS_DCLR_MNB>0</FALS_DCLR_MNB>\\n        <FIRE_RCPT_MNB>2</FIRE_RCPT_MNB>\\n        <SIDO_HQ_FRST_CETR_NM>\\xec\\x84\\x9c\\xec\\x9a\\xb8\\xec\\x86\\x8c\\xeb\\xb0\\xa9\\xec\\x9e\\xac\\xeb\\x82\\x9c\\xeb\\xb3\\xb8\\xeb\\xb6\\x80</SIDO_HQ_FRST_CETR_NM>\\n      </item>\\n      <item>\\n        <STN_END_MNB>1</STN_END_MNB>\\n        <FRST_CETR_NM>\\xec\\x9d\\x80\\xed\\x8f\\x89\\xec\\x86\\x8c\\xeb\\xb0\\xa9\\xec\\x84\\x9c</FRST_CETR_NM>\\n        <OCRN_YMD>20201106</OCRN_YMD>\\n        <FLSRP_PRCS_MNB>2</FLSRP_PRCS_MNB>\\n        <SLF_EXTSH_MNB>0</SLF_EXTSH_MNB>\\n        <FIRE_PROG_MNB>0</FIRE_PROG_MNB>\\n        <FALS_DCLR_MNB>0</FALS_DCLR_MNB>\\n        <FIRE_RCPT_MNB>3</FIRE_RCPT_MNB>\\n        <SIDO_HQ_FRST_CETR_NM>\\xec\\x84\\x9c\\xec\\x9a\\xb8\\xec\\x86\\x8c\\xeb\\xb0\\xa9\\xec\\x9e\\xac\\xeb\\x82\\x9c\\xeb\\xb3\\xb8\\xeb\\xb6\\x80</SIDO_HQ_FRST_CETR_NM>\\n      </item>\\n      <item>\\n        <STN_END_MNB>0</STN_END_MNB>\\n        <FRST_CETR_NM>\\xeb\\xa7\\x88\\xed\\x8f\\xac\\xec\\x86\\x8c\\xeb\\xb0\\xa9\\xec\\x84\\x9c</FRST_CETR_NM>\\n        <OCRN_YMD>20201106</OCRN_YMD>\\n        <FLSRP_PRCS_MNB>1</FLSRP_PRCS_MNB>\\n        <SLF_EXTSH_MNB>1</SLF_EXTSH_MNB>\\n        <FIRE_PROG_MNB>0</FIRE_PROG_MNB>\\n        <FALS_DCLR_MNB>0</FALS_DCLR_MNB>\\n        <FIRE_RCPT_MNB>2</FIRE_RCPT_MNB>\\n        <SIDO_HQ_FRST_CETR_NM>\\xec\\x84\\x9c\\xec\\x9a\\xb8\\xec\\x86\\x8c\\xeb\\xb0\\xa9\\xec\\x9e\\xac\\xeb\\x82\\x9c\\xeb\\xb3\\xb8\\xeb\\xb6\\x80</SIDO_HQ_FRST_CETR_NM>\\n      </item>\\n      <item>\\n        <STN_END_MNB>0</STN_END_MNB>\\n        <FRST_CETR_NM>\\xea\\xb0\\x95\\xeb\\x82\\xa8\\xec\\x86\\x8c\\xeb\\xb0\\xa9\\xec\\x84\\x9c</FRST_CETR_NM>\\n        <OCRN_YMD>20201106</OCRN_YMD>\\n        <FLSRP_PRCS_MNB>3</FLSRP_PRCS_MNB>\\n        <SLF_EXTSH_MNB>0</SLF_EXTSH_MNB>\\n        <FIRE_PROG_MNB>0</FIRE_PROG_MNB>\\n        <FALS_DCLR_MNB>0</FALS_DCLR_MNB>\\n        <FIRE_RCPT_MNB>3</FIRE_RCPT_MNB>\\n        <SIDO_HQ_FRST_CETR_NM>\\xec\\x84\\x9c\\xec\\x9a\\xb8\\xec\\x86\\x8c\\xeb\\xb0\\xa9\\xec\\x9e\\xac\\xeb\\x82\\x9c\\xeb\\xb3\\xb8\\xeb\\xb6\\x80</SIDO_HQ_FRST_CETR_NM>\\n      </item>\\n    </items>\\n  </body>\\n</response>\\n'"
      ]
     },
     "metadata": {},
     "execution_count": 75
    }
   ],
   "source": [
    "response_body"
   ]
  },
  {
   "cell_type": "code",
   "execution_count": 8,
   "metadata": {},
   "outputs": [
    {
     "output_type": "error",
     "ename": "AttributeError",
     "evalue": "'NoneType' object has no attribute 'find'",
     "traceback": [
      "\u001b[0;31m---------------------------------------------------------------------------\u001b[0m",
      "\u001b[0;31mAttributeError\u001b[0m                            Traceback (most recent call last)",
      "\u001b[0;32m<ipython-input-8-921297a20c7a>\u001b[0m in \u001b[0;36m<module>\u001b[0;34m\u001b[0m\n\u001b[0;32m----> 1\u001b[0;31m \u001b[0mseoul\u001b[0m \u001b[0;34m=\u001b[0m \u001b[0mroot\u001b[0m\u001b[0;34m.\u001b[0m\u001b[0mfind\u001b[0m\u001b[0;34m(\u001b[0m\u001b[0;34m'body'\u001b[0m\u001b[0;34m)\u001b[0m\u001b[0;34m.\u001b[0m\u001b[0mfind\u001b[0m\u001b[0;34m(\u001b[0m\u001b[0;34m'items'\u001b[0m\u001b[0;34m)\u001b[0m\u001b[0;34m.\u001b[0m\u001b[0mfind\u001b[0m\u001b[0;34m(\u001b[0m\u001b[0;34m'item'\u001b[0m\u001b[0;34m)\u001b[0m\u001b[0;34m.\u001b[0m\u001b[0mfind\u001b[0m\u001b[0;34m(\u001b[0m\u001b[0;34m'seoul'\u001b[0m\u001b[0;34m)\u001b[0m\u001b[0;34m\u001b[0m\u001b[0;34m\u001b[0m\u001b[0m\n\u001b[0m\u001b[1;32m      2\u001b[0m \u001b[0;34m\u001b[0m\u001b[0m\n\u001b[1;32m      3\u001b[0m \u001b[0mgyeonggi\u001b[0m \u001b[0;34m=\u001b[0m \u001b[0mroot\u001b[0m\u001b[0;34m.\u001b[0m\u001b[0mfind\u001b[0m\u001b[0;34m(\u001b[0m\u001b[0;34m'body'\u001b[0m\u001b[0;34m)\u001b[0m\u001b[0;34m.\u001b[0m\u001b[0mfind\u001b[0m\u001b[0;34m(\u001b[0m\u001b[0;34m'items'\u001b[0m\u001b[0;34m)\u001b[0m\u001b[0;34m.\u001b[0m\u001b[0mfind\u001b[0m\u001b[0;34m(\u001b[0m\u001b[0;34m'item'\u001b[0m\u001b[0;34m)\u001b[0m\u001b[0;34m.\u001b[0m\u001b[0mfind\u001b[0m\u001b[0;34m(\u001b[0m\u001b[0;34m'gyeonggi'\u001b[0m\u001b[0;34m)\u001b[0m\u001b[0;34m\u001b[0m\u001b[0;34m\u001b[0m\u001b[0m\n",
      "\u001b[0;31mAttributeError\u001b[0m: 'NoneType' object has no attribute 'find'"
     ]
    }
   ],
   "source": [
    "seoul = root.find('body').find('items').find('item').find('seoul')\n",
    "\n",
    "gyeonggi = root.find('body').find('items').find('item').find('gyeonggi')"
   ]
  },
  {
   "cell_type": "code",
   "execution_count": 6,
   "metadata": {},
   "outputs": [],
   "source": [
    "from urllib.request import Request, urlopen\n",
    "\n",
    "from urllib.parse import urlencode, quote_plus,unquote\n",
    "\n",
    "import xml.etree.ElementTree as ET"
   ]
  },
  {
   "cell_type": "code",
   "execution_count": 101,
   "metadata": {},
   "outputs": [
    {
     "output_type": "execute_result",
     "data": {
      "text/plain": [
       "{'response': {'header': {'resultCode': '00', 'resultMsg': 'NORMAL SERVICE'},\n",
       "  'body': {'pageNo': 1,\n",
       "   'totalCount': 10,\n",
       "   'items': {'item': [{'sidoHqFrstCetrNm': '서울소방재난본부',\n",
       "      'fireProgMnb': 1,\n",
       "      'flsrpPrcsMnb': 0,\n",
       "      'slfExtshMnb': 0,\n",
       "      'fireRcptMnb': 1,\n",
       "      'frstCetrNm': '노원소방서',\n",
       "      'stnEndMnb': 0,\n",
       "      'ocrnYmd': '20210330',\n",
       "      'falsDclrMnb': 0},\n",
       "     {'sidoHqFrstCetrNm': '서울소방재난본부',\n",
       "      'fireProgMnb': 1,\n",
       "      'flsrpPrcsMnb': 0,\n",
       "      'slfExtshMnb': 0,\n",
       "      'fireRcptMnb': 1,\n",
       "      'frstCetrNm': '마포소방서',\n",
       "      'stnEndMnb': 0,\n",
       "      'ocrnYmd': '20210330',\n",
       "      'falsDclrMnb': 0},\n",
       "     {'sidoHqFrstCetrNm': '서울소방재난본부',\n",
       "      'fireProgMnb': 0,\n",
       "      'flsrpPrcsMnb': 1,\n",
       "      'slfExtshMnb': 0,\n",
       "      'fireRcptMnb': 1,\n",
       "      'frstCetrNm': '강남소방서',\n",
       "      'stnEndMnb': 0,\n",
       "      'ocrnYmd': '20210330',\n",
       "      'falsDclrMnb': 0},\n",
       "     {'sidoHqFrstCetrNm': '서울소방재난본부',\n",
       "      'fireProgMnb': 0,\n",
       "      'flsrpPrcsMnb': 0,\n",
       "      'slfExtshMnb': 0,\n",
       "      'fireRcptMnb': 1,\n",
       "      'frstCetrNm': '강동소방서',\n",
       "      'stnEndMnb': 1,\n",
       "      'ocrnYmd': '20210330',\n",
       "      'falsDclrMnb': 0},\n",
       "     {'sidoHqFrstCetrNm': '서울소방재난본부',\n",
       "      'fireProgMnb': 0,\n",
       "      'flsrpPrcsMnb': 0,\n",
       "      'slfExtshMnb': 0,\n",
       "      'fireRcptMnb': 1,\n",
       "      'frstCetrNm': '중랑소방서',\n",
       "      'stnEndMnb': 1,\n",
       "      'ocrnYmd': '20210330',\n",
       "      'falsDclrMnb': 0},\n",
       "     {'sidoHqFrstCetrNm': '서울소방재난본부',\n",
       "      'fireProgMnb': 2,\n",
       "      'flsrpPrcsMnb': 0,\n",
       "      'slfExtshMnb': 0,\n",
       "      'fireRcptMnb': 2,\n",
       "      'frstCetrNm': '서대문소방서',\n",
       "      'stnEndMnb': 0,\n",
       "      'ocrnYmd': '20210330',\n",
       "      'falsDclrMnb': 0},\n",
       "     {'sidoHqFrstCetrNm': '부산소방재난본부',\n",
       "      'fireProgMnb': 0,\n",
       "      'flsrpPrcsMnb': 0,\n",
       "      'slfExtshMnb': 0,\n",
       "      'fireRcptMnb': 1,\n",
       "      'frstCetrNm': '남부소방서',\n",
       "      'stnEndMnb': 1,\n",
       "      'ocrnYmd': '20210330',\n",
       "      'falsDclrMnb': 0},\n",
       "     {'sidoHqFrstCetrNm': '대구소방안전본부',\n",
       "      'fireProgMnb': 0,\n",
       "      'flsrpPrcsMnb': 0,\n",
       "      'slfExtshMnb': 0,\n",
       "      'fireRcptMnb': 1,\n",
       "      'frstCetrNm': '북부소방서',\n",
       "      'stnEndMnb': 1,\n",
       "      'ocrnYmd': '20210330',\n",
       "      'falsDclrMnb': 0},\n",
       "     {'sidoHqFrstCetrNm': '인천소방안전본부',\n",
       "      'fireProgMnb': 0,\n",
       "      'flsrpPrcsMnb': 0,\n",
       "      'slfExtshMnb': 0,\n",
       "      'fireRcptMnb': 1,\n",
       "      'frstCetrNm': '서부소방서',\n",
       "      'stnEndMnb': 1,\n",
       "      'ocrnYmd': '20210330',\n",
       "      'falsDclrMnb': 0},\n",
       "     {'sidoHqFrstCetrNm': '광주소방본부',\n",
       "      'fireProgMnb': 1,\n",
       "      'flsrpPrcsMnb': 0,\n",
       "      'slfExtshMnb': 0,\n",
       "      'fireRcptMnb': 1,\n",
       "      'frstCetrNm': '광산소방서',\n",
       "      'stnEndMnb': 0,\n",
       "      'ocrnYmd': '20210330',\n",
       "      'falsDclrMnb': 0}]},\n",
       "   'numOfRows': 10}}}"
      ]
     },
     "metadata": {},
     "execution_count": 101
    }
   ],
   "source": [
    "\n",
    "\n",
    "url = 'http://apis.data.go.kr/1661000/FireInformationService/getOcByfrstFireSmrzPcnd'\n",
    "\n",
    "\n",
    "\n",
    "queryParams = '?' + urlencode({\n",
    "     quote_plus('ServiceKey') : '+iT5a7wYkdxfIqbjMjU5tu4+Y1ki6GEcF7vgcsbALbXvgsnNrcIOYSFYIKry6bx7vfAQ2D7aqzw4KAo8RE99Wg==',\n",
    "    quote_plus('pageNo') : '1', quote_plus('numOfRows') : '10', quote_plus('resultType') : 'json', quote_plus('ocrn_ymd') : '20210330' })\n",
    "\n",
    "request = Request(url + queryParams)\n",
    "request.get_method = lambda: 'GET'\n",
    "response_body = urlopen(request).read()\n",
    "\n",
    "json.loads(response_body)"
   ]
  },
  {
   "cell_type": "code",
   "execution_count": null,
   "metadata": {},
   "outputs": [],
   "source": []
  }
 ]
}