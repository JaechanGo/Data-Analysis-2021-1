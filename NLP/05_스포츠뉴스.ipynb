{
  "nbformat": 4,
  "nbformat_minor": 0,
  "metadata": {
    "colab": {
      "name": "05_스포츠뉴스.ipynb",
      "provenance": [],
      "collapsed_sections": []
    },
    "kernelspec": {
      "name": "python3",
      "display_name": "Python 3",
      "language": "python"
    },
    "language_info": {
      "name": "python",
      "version": "3.7.0-final"
    }
  },
  "cells": [
    {
      "cell_type": "markdown",
      "metadata": {
        "id": "VnUQWOI6HgO_"
      },
      "source": [
        "# 네이버 스포츠 뉴스 워드 클라우드"
      ]
    },
    {
      "cell_type": "code",
      "metadata": {
        "colab": {
          "base_uri": "https://localhost:8080/"
        },
        "id": "uMrcTaP4IH3w",
        "outputId": "466a460e-ab59-455d-86dc-e0d96ffd83d4"
      },
      "source": [
        "# KoNLPy 설치 KoNLPy 설치\n",
        "!pip install konlpy"
      ],
      "execution_count": 1,
      "outputs": [
        {
          "output_type": "stream",
          "name": "stdout",
          "text": [
            "Collecting konlpy\n",
            "  Using cached https://files.pythonhosted.org/packages/85/0e/f385566fec837c0b83f216b2da65db9997b35dd675e107752005b7d392b1/konlpy-0.5.2-py2.py3-none-any.whl\n",
            "Requirement already satisfied: lxml>=4.1.0 in /Users/chan/.pyenv/versions/anaconda3-5.3.1/lib/python3.7/site-packages (from konlpy) (4.2.5)\n",
            "Requirement already satisfied: colorama in /Users/chan/.pyenv/versions/anaconda3-5.3.1/lib/python3.7/site-packages (from konlpy) (0.3.9)\n",
            "Collecting beautifulsoup4==4.6.0 (from konlpy)\n",
            "  Using cached https://files.pythonhosted.org/packages/9e/d4/10f46e5cfac773e22707237bfcd51bbffeaf0a576b0a847ec7ab15bd7ace/beautifulsoup4-4.6.0-py3-none-any.whl\n",
            "Collecting tweepy>=3.7.0 (from konlpy)\n",
            "  Using cached https://files.pythonhosted.org/packages/67/c3/6bed87f3b1e5ed2f34bd58bf7978e308c86e255193916be76e5a5ce5dfca/tweepy-3.10.0-py2.py3-none-any.whl\n",
            "Collecting JPype1>=0.7.0 (from konlpy)\n",
            "\u001b[?25l  Downloading https://files.pythonhosted.org/packages/c6/e4/efde8e1369cca6fc90c4fffa381efc7887f62f596d62bf251bdc03542549/JPype1-1.2.1-cp37-cp37m-macosx_10_9_x86_64.whl (377kB)\n",
            "\u001b[K    100% |████████████████████████████████| 378kB 598kB/s \n",
            "\u001b[?25hRequirement already satisfied: numpy>=1.6 in /Users/chan/.pyenv/versions/anaconda3-5.3.1/lib/python3.7/site-packages (from konlpy) (1.15.1)\n",
            "Collecting requests-oauthlib>=0.7.0 (from tweepy>=3.7.0->konlpy)\n",
            "  Downloading https://files.pythonhosted.org/packages/a3/12/b92740d845ab62ea4edf04d2f4164d82532b5a0b03836d4d4e71c6f3d379/requests_oauthlib-1.3.0-py2.py3-none-any.whl\n",
            "Requirement already satisfied: requests[socks]>=2.11.1 in /Users/chan/.pyenv/versions/anaconda3-5.3.1/lib/python3.7/site-packages (from tweepy>=3.7.0->konlpy) (2.19.1)\n",
            "Requirement already satisfied: six>=1.10.0 in /Users/chan/.pyenv/versions/anaconda3-5.3.1/lib/python3.7/site-packages (from tweepy>=3.7.0->konlpy) (1.11.0)\n",
            "Collecting typing-extensions; python_version < \"3.8\" (from JPype1>=0.7.0->konlpy)\n",
            "  Downloading https://files.pythonhosted.org/packages/60/7a/e881b5abb54db0e6e671ab088d079c57ce54e8a01a3ca443f561ccadb37e/typing_extensions-3.7.4.3-py3-none-any.whl\n",
            "Collecting oauthlib>=3.0.0 (from requests-oauthlib>=0.7.0->tweepy>=3.7.0->konlpy)\n",
            "\u001b[?25l  Downloading https://files.pythonhosted.org/packages/05/57/ce2e7a8fa7c0afb54a0581b14a65b56e62b5759dbc98e80627142b8a3704/oauthlib-3.1.0-py2.py3-none-any.whl (147kB)\n",
            "\u001b[K    100% |████████████████████████████████| 153kB 337kB/s \n",
            "\u001b[?25hRequirement already satisfied: chardet<3.1.0,>=3.0.2 in /Users/chan/.pyenv/versions/anaconda3-5.3.1/lib/python3.7/site-packages (from requests[socks]>=2.11.1->tweepy>=3.7.0->konlpy) (3.0.4)\n",
            "Requirement already satisfied: certifi>=2017.4.17 in /Users/chan/.pyenv/versions/anaconda3-5.3.1/lib/python3.7/site-packages (from requests[socks]>=2.11.1->tweepy>=3.7.0->konlpy) (2018.8.24)\n",
            "Requirement already satisfied: idna<2.8,>=2.5 in /Users/chan/.pyenv/versions/anaconda3-5.3.1/lib/python3.7/site-packages (from requests[socks]>=2.11.1->tweepy>=3.7.0->konlpy) (2.7)\n",
            "Requirement already satisfied: urllib3<1.24,>=1.21.1 in /Users/chan/.pyenv/versions/anaconda3-5.3.1/lib/python3.7/site-packages (from requests[socks]>=2.11.1->tweepy>=3.7.0->konlpy) (1.23)\n",
            "Requirement already satisfied: PySocks!=1.5.7,>=1.5.6; extra == \"socks\" in /Users/chan/.pyenv/versions/anaconda3-5.3.1/lib/python3.7/site-packages (from requests[socks]>=2.11.1->tweepy>=3.7.0->konlpy) (1.6.8)\n",
            "\u001b[31mtwisted 18.7.0 requires PyHamcrest>=1.9.0, which is not installed.\u001b[0m\n",
            "Installing collected packages: beautifulsoup4, oauthlib, requests-oauthlib, tweepy, typing-extensions, JPype1, konlpy\n",
            "  Found existing installation: beautifulsoup4 4.6.3\n",
            "    Uninstalling beautifulsoup4-4.6.3:\n",
            "      Successfully uninstalled beautifulsoup4-4.6.3\n",
            "Successfully installed JPype1-1.2.1 beautifulsoup4-4.6.0 konlpy-0.5.2 oauthlib-3.1.0 requests-oauthlib-1.3.0 tweepy-3.10.0 typing-extensions-3.7.4.3\n",
            "\u001b[33mYou are using pip version 10.0.1, however version 21.0.1 is available.\n",
            "You should consider upgrading via the 'pip install --upgrade pip' command.\u001b[0m\n"
          ]
        }
      ]
    },
    {
      "cell_type": "code",
      "metadata": {
        "colab": {
          "base_uri": "https://localhost:8080/"
        },
        "id": "fnZcWBNBIY9H",
        "outputId": "0a0aeb73-d8be-490a-f449-8b2a6cdbba3d"
      },
      "source": [
        "# 한글 폰트 설치\n",
        "!apt-get install -y fonts-nanum\n",
        "!fc-cache -fv\n",
        "!rm ~/.cache/matplotlib -rf"
      ],
      "execution_count": 2,
      "outputs": [
        {
          "output_type": "stream",
          "name": "stdout",
          "text": [
            "/bin/sh: apt-get: command not found\n",
            "/usr/share/fonts: skipping, no such directory\n",
            "/System/Library/Fonts: caching, new cache contents: 861 fonts, 1 dirs\n",
            "/System/Library/Fonts/Supplemental: caching, new cache contents: 482 fonts, 0 dirs\n",
            "/Library/Fonts: caching, new cache contents: 1 fonts, 0 dirs\n",
            "/Users/chan/Library/Fonts: caching, new cache contents: 23 fonts, 0 dirs\n",
            "/System/Library/AssetsV2/com_apple_MobileAsset_Font6: caching, new cache contents: 0 fonts, 1 dirs\n",
            "/System/Library/AssetsV2/com_apple_MobileAsset_Font6/ee9e9584cd1a5f676e03a9efcc80783bc7e12e2c.asset: caching, new cache contents: 0 fonts, 2 dirs\n",
            "/System/Library/AssetsV2/com_apple_MobileAsset_Font6/ee9e9584cd1a5f676e03a9efcc80783bc7e12e2c.asset/AssetData: caching, new cache contents: 3 fonts, 0 dirs\n",
            "/System/Library/AssetsV2/com_apple_MobileAsset_Font6/ee9e9584cd1a5f676e03a9efcc80783bc7e12e2c.asset/META-INF: caching, new cache contents: 0 fonts, 0 dirs\n",
            "/Users/chan/.local/share/fonts: skipping, no such directory\n",
            "/Users/chan/.fonts: skipping, no such directory\n",
            "/System/Library/Fonts/Supplemental: skipping, looped directory detected\n",
            "/System/Library/AssetsV2/com_apple_MobileAsset_Font6/ee9e9584cd1a5f676e03a9efcc80783bc7e12e2c.asset: skipping, looped directory detected\n",
            "/System/Library/AssetsV2/com_apple_MobileAsset_Font6/ee9e9584cd1a5f676e03a9efcc80783bc7e12e2c.asset/AssetData: skipping, looped directory detected\n",
            "/System/Library/AssetsV2/com_apple_MobileAsset_Font6/ee9e9584cd1a5f676e03a9efcc80783bc7e12e2c.asset/META-INF: skipping, looped directory detected\n",
            "/usr/local/var/cache/fontconfig: cleaning cache directory\n",
            "/Users/chan/.cache/fontconfig: not cleaning non-existent cache directory\n",
            "/Users/chan/.fontconfig: not cleaning non-existent cache directory\n",
            "fc-cache: succeeded\n",
            "rm: /Users/chan/.cache/matplotlib: No such file or directory\n",
            "rm: -rf: No such file or directory\n"
          ]
        }
      ]
    },
    {
      "cell_type": "code",
      "metadata": {
        "id": "dRzf4vT7Hk5q"
      },
      "source": [
        "from konlpy.tag import Okt\n",
        "\n",
        "import matplotlib as mpl  # 기본 설정 만지는 용도\n",
        "import matplotlib.pyplot as plt  # 그래프 그리는 용도\n",
        "import matplotlib.font_manager as fm  # 폰트 관련 용도\n",
        "%matplotlib inline"
      ],
      "execution_count": 3,
      "outputs": []
    },
    {
      "cell_type": "code",
      "metadata": {
        "colab": {
          "base_uri": "https://localhost:8080/"
        },
        "id": "g8xPXBSnH-J5",
        "outputId": "5bb43541-de37-40b9-c0a7-c28bef211d18"
      },
      "source": [
        "sys_font=fm.findSystemFonts()\n",
        "nanum_font = [f for f in sys_font if 'Nanum' in f]\n",
        "print(f\"nanum_font number: {len(nanum_font)}\")"
      ],
      "execution_count": 4,
      "outputs": [
        {
          "output_type": "stream",
          "name": "stdout",
          "text": [
            "nanum_font number: 4\n"
          ]
        }
      ]
    },
    {
      "cell_type": "code",
      "metadata": {
        "id": "_TrjNHIWIoZh"
      },
      "source": [
        "plt.rc('font', family='NanumBarunGothic') "
      ],
      "execution_count": 5,
      "outputs": []
    },
    {
      "cell_type": "markdown",
      "metadata": {
        "id": "OjKMnTmwItTl"
      },
      "source": [
        "### 워드 클라우드"
      ]
    },
    {
      "cell_type": "code",
      "metadata": {
        "id": "XfYq_ajpIvSM"
      },
      "source": [
        "with open('sports.txt') as fp:\n",
        "    text = fp.read()"
      ],
      "execution_count": 12,
      "outputs": [
        {
          "output_type": "error",
          "ename": "FileNotFoundError",
          "evalue": "[Errno 2] No such file or directory: 'sports.txt'",
          "traceback": [
            "\u001b[0;31m---------------------------------------------------------------------------\u001b[0m",
            "\u001b[0;31mFileNotFoundError\u001b[0m                         Traceback (most recent call last)",
            "\u001b[0;32m<ipython-input-12-1c3800ae4150>\u001b[0m in \u001b[0;36m<module>\u001b[0;34m()\u001b[0m\n\u001b[0;32m----> 1\u001b[0;31m \u001b[0;32mwith\u001b[0m \u001b[0mopen\u001b[0m\u001b[0;34m(\u001b[0m\u001b[0;34m'sports.txt'\u001b[0m\u001b[0;34m)\u001b[0m \u001b[0;32mas\u001b[0m \u001b[0mfp\u001b[0m\u001b[0;34m:\u001b[0m\u001b[0;34m\u001b[0m\u001b[0m\n\u001b[0m\u001b[1;32m      2\u001b[0m     \u001b[0mtext\u001b[0m \u001b[0;34m=\u001b[0m \u001b[0mfp\u001b[0m\u001b[0;34m.\u001b[0m\u001b[0mread\u001b[0m\u001b[0;34m(\u001b[0m\u001b[0;34m)\u001b[0m\u001b[0;34m\u001b[0m\u001b[0m\n",
            "\u001b[0;31mFileNotFoundError\u001b[0m: [Errno 2] No such file or directory: 'sports.txt'"
          ]
        }
      ]
    },
    {
      "cell_type": "code",
      "metadata": {
        "id": "iC6q1Wy-I8kd"
      },
      "source": [
        "okt = Okt()\n",
        "tokens = okt.nouns(text)"
      ],
      "execution_count": null,
      "outputs": []
    },
    {
      "cell_type": "code",
      "metadata": {
        "id": "2e_MbNajJPMe"
      },
      "source": [
        "# 영어/숫자를 배제하고 싶으면\n",
        "import re\n",
        "\n",
        "new_text = []\n",
        "for token in tokens:\n",
        "    text = re.sub('[a-zA-Z0-9]', '', token)\n",
        "    new_text.append(token)"
      ],
      "execution_count": 8,
      "outputs": [
        {
          "output_type": "error",
          "ename": "NameError",
          "evalue": "name 'tokens' is not defined",
          "traceback": [
            "\u001b[0;31m---------------------------------------------------------------------------\u001b[0m",
            "\u001b[0;31mNameError\u001b[0m                                 Traceback (most recent call last)",
            "\u001b[0;32m<ipython-input-8-93e83cfb81de>\u001b[0m in \u001b[0;36m<module>\u001b[0;34m()\u001b[0m\n\u001b[1;32m      3\u001b[0m \u001b[0;34m\u001b[0m\u001b[0m\n\u001b[1;32m      4\u001b[0m \u001b[0mnew_text\u001b[0m \u001b[0;34m=\u001b[0m \u001b[0;34m[\u001b[0m\u001b[0;34m]\u001b[0m\u001b[0;34m\u001b[0m\u001b[0m\n\u001b[0;32m----> 5\u001b[0;31m \u001b[0;32mfor\u001b[0m \u001b[0mtoken\u001b[0m \u001b[0;32min\u001b[0m \u001b[0mtokens\u001b[0m\u001b[0;34m:\u001b[0m\u001b[0;34m\u001b[0m\u001b[0m\n\u001b[0m\u001b[1;32m      6\u001b[0m     \u001b[0mtext\u001b[0m \u001b[0;34m=\u001b[0m \u001b[0mre\u001b[0m\u001b[0;34m.\u001b[0m\u001b[0msub\u001b[0m\u001b[0;34m(\u001b[0m\u001b[0;34m'[a-zA-Z0-9]'\u001b[0m\u001b[0;34m,\u001b[0m \u001b[0;34m''\u001b[0m\u001b[0;34m,\u001b[0m \u001b[0mtoken\u001b[0m\u001b[0;34m)\u001b[0m\u001b[0;34m\u001b[0m\u001b[0m\n\u001b[1;32m      7\u001b[0m     \u001b[0mnew_text\u001b[0m\u001b[0;34m.\u001b[0m\u001b[0mappend\u001b[0m\u001b[0;34m(\u001b[0m\u001b[0mtoken\u001b[0m\u001b[0;34m)\u001b[0m\u001b[0;34m\u001b[0m\u001b[0m\n",
            "\u001b[0;31mNameError\u001b[0m: name 'tokens' is not defined"
          ]
        }
      ]
    },
    {
      "cell_type": "code",
      "metadata": {
        "id": "HLw0-5A_KFC8"
      },
      "source": [
        "# Stopword를 배제하고 싶으면\n",
        "stopwords = ['오피셜','감독','선수','리그','경기']\n",
        "new_text = [word for word in tokens if word not in stopwords]"
      ],
      "execution_count": null,
      "outputs": []
    },
    {
      "cell_type": "code",
      "metadata": {
        "id": "-XD72oWIKi-R"
      },
      "source": [
        "# NLTK의 Text 활용\n",
        "import nltk\n",
        "\n",
        "han_text = nltk.Text(new_text, name='스포츠 뉴스')"
      ],
      "execution_count": null,
      "outputs": []
    },
    {
      "cell_type": "code",
      "metadata": {
        "colab": {
          "base_uri": "https://localhost:8080/",
          "height": 479
        },
        "id": "r0A5XSYbLUfU",
        "outputId": "138347a2-cb73-4b99-c031-9ad71b6c24b0"
      },
      "source": [
        "from wordcloud import WordCloud\n",
        "\n",
        "# 자신의 컴퓨터 환경에 맞는 한글 폰트 경로를 설정\n",
        "font_path = '/usr/share/fonts/truetype/nanum/NanumGothic.ttf'\n",
        "\n",
        "wc = WordCloud(width = 1000, height = 600, background_color=\"white\", font_path=font_path)\n",
        "plt.figure(figsize=(15,10))\n",
        "plt.imshow(wc.generate_from_frequencies(han_text.vocab()))\n",
        "plt.axis(\"off\")\n",
        "plt.show()"
      ],
      "execution_count": null,
      "outputs": []
    },
    {
      "cell_type": "code",
      "metadata": {
        "id": "BNQur39kLg1O"
      },
      "source": [],
      "execution_count": null,
      "outputs": []
    }
  ]
}